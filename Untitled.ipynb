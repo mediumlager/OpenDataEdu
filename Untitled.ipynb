{
 "cells": [
  {
   "cell_type": "markdown",
   "metadata": {},
   "source": [
    "# Jupyter Notebook"
   ]
  },
  {
   "cell_type": "markdown",
   "metadata": {},
   "source": [
    "In this tutorial-type-introduction you will learn the very basics of the application, plus this could give you some ideas how to introduce data to other people (or fiddle with it yourself!)."
   ]
  },
  {
   "cell_type": "markdown",
   "metadata": {},
   "source": [
    "## 1. What"
   ]
  },
  {
   "cell_type": "markdown",
   "metadata": {},
   "source": [
    "This file is a [Jupyter](http://jupyter.org/about) Notebook and it contains basics of using such a file. Notebook is an online document that can easily combine programming, text, images, videos, equations...  \n",
    "It can be modified on the fly and is fairly simple to use, really!\n",
    "It can also understand multiple programming languages (full list [here](https://github.com/jupyter/jupyter/wiki/Jupyter-kernels)), but let's only use Python 3\n",
    "this time.  \n",
    "\n",
    "The point of this document is to introduce Jupyter Notebook to you, and to show how it can be used. "
   ]
  },
  {
   "cell_type": "markdown",
   "metadata": {},
   "source": [
    "## 2. Why"
   ]
  },
  {
   "cell_type": "markdown",
   "metadata": {},
   "source": [
    "First of all everything is online-based (and free!) so no need to install anything on your own computer, unless you don't want to. (Using [Anaconda](https://www.anaconda.com/download/) instead of online versions makes it maybe a bit easier to use, but indeed requires you to install it. And nobody wants extra stuff on their computer, right?)  \n",
    "You just have to run the notebook thru [Mybinder](https://mybinder.org), or similar, but this binder works quite well. Binder actually creates a virtual copy of the original notebook, so the original doesn't change based on the changes made in binder. So if you want to modify the original notebook, you have to edit it, download  \n",
    "(***File $\\rightarrow$ Download as Notebook(.ipynb)***) the edited version and upload it to the repository for example.\n",
    "\n",
    "Second of all, it is, as said, easy to use and even easier to learn. Depending on the programming level you want to use it for, of course. (And if used for data-analysis/demo-type intros, not much programming is even needed, as you're probably aware)"
   ]
  },
  {
   "cell_type": "markdown",
   "metadata": {},
   "source": [
    "## 3. How"
   ]
  },
  {
   "cell_type": "markdown",
   "metadata": {},
   "source": [
    "Okay, so try! Doubleclick this and see how the notebook is build. As you can see, it is divided in different *cells*.  \n",
    "Notebook has three$^\\dagger$ kinds of cells, two of which are really needed: code and text. The third one is raw, which is used for code that will be left off. Let's see how do they work. You can doubleclick, or press enter while the cell is selected, a cell to see what it holds inside and to edit it.  \n",
    "\n",
    "If the left side of the cell is green, you can edit the cell in question (edit mode). Instead if it's blue, you're in command mode and can edit the whole notebook (such as insert cells or delete them).  \n",
    "To insert a cell, you can choose ***Insert*** $\\rightarrow$ ***Cell above/below***, or by pressing ***a/b***. To change the cell type you can choose it from the dropdown menu in the top bar, or by pressing ***m/y*** for markdown/code cell while in command mode.  \n",
    "\n",
    "If you want more precise and broad introduction, you can find one from [here](https://github.com/cms-opendata-education/cms-jupyter-materials-english/blob/master/Introduction-to-jupyter/Jupyter-getting-started.ipynb).\n",
    "*****\n",
    "$^\\dagger$Dropdown menu shows actually 4, but the header type is exactly the same as markdown\n",
    "*****\n"
   ]
  },
  {
   "cell_type": "markdown",
   "metadata": {},
   "source": [
    "If you prefer using keyboard shortcuts instead of the top bar to edit the file, you can see them by pressing ***H*** while in command mode."
   ]
  },
  {
   "cell_type": "markdown",
   "metadata": {},
   "source": [
    "This is a text cell, in this you can write text, insert pictures, mathematical equations etc. \n",
    "<img, src = \"https://upload.wikimedia.org/wikipedia/commons/thumb/b/b7/Proton_quark_structure.svg/744px-Proton_quark_structure.svg.png\", height = 120, width = 120, align = \"left\", alt = \"Picture of a proton\">\n",
    "\n",
    "Text cells understands, well, basic text, $LaTeX$ and HTML for example, plus you can write code blocks using triple backtricks (```).\n",
    "\n",
    "$\\frac{1}{2}e^{i\\pi} $\n",
    "\n",
    "```C++\n",
    "// This is a C++ -codeblock\n",
    "for(int i; i<10;1++){\n",
    "    do stuff\n",
    "}\n",
    "```"
   ]
  },
  {
   "cell_type": "markdown",
   "metadata": {},
   "source": [
    "You can run cells by pressing ***Ctrl+Enter***, or by pressing ***Run*** on the top bar. On the left side of the code cell you can see ``` In [ ]```. If it says ``` In [*] ``` it means that the cell in question is running at the moment. If it instead says ``` In [4] ``` it means that the code cell was the fourth cell ran.\n",
    "\n",
    "##### And remember! Don't just click through and read the texts or whatever, but change them, try different stuff and find new ways to use it"
   ]
  },
  {
   "cell_type": "markdown",
   "metadata": {},
   "source": [
    "If you manage to break the notebook, just choose ***Kernel $\\rightarrow$ Restart & clear output*** (or just ***Restart***), which resets the document."
   ]
  },
  {
   "cell_type": "code",
   "execution_count": null,
   "metadata": {},
   "outputs": [],
   "source": [
    "# This is a code cell. In this you can write (in this instance) Python 3 -code \n",
    "# You can comment (Python) code using # before the comment.\n",
    " \n",
    "var = 2\n",
    "var += 4\n",
    "print(var)"
   ]
  },
  {
   "cell_type": "markdown",
   "metadata": {},
   "source": [
    "## 4. What does data look like?"
   ]
  },
  {
   "cell_type": "markdown",
   "metadata": {},
   "source": [
    "Let's see what we can do with this tool then. First let's take a look at the [open data from CMS](http://opendata.cern.ch/search?page=1&size=20&experiment=CMS) experiment."
   ]
  },
  {
   "cell_type": "markdown",
   "metadata": {},
   "source": [
    "### 4.1 Data from CMS"
   ]
  },
  {
   "cell_type": "code",
   "execution_count": 4,
   "metadata": {},
   "outputs": [],
   "source": [
    "# Run this cell before running the ones after it, as these modules are needed for them to work properly\n",
    "\n",
    "import pandas as pd # pandas module is used to read and manipulate csv-files\n",
    "import numpy as np # numpy is used for numerical calculus\n",
    "import matplotlib.pyplot as plt # this is used to plot diagrams etc."
   ]
  },
  {
   "cell_type": "markdown",
   "metadata": {},
   "source": [
    "The data used is from the CMS-experiment, which is available [here](http://opendata.cern.ch/record/545). "
   ]
  },
  {
   "cell_type": "code",
   "execution_count": null,
   "metadata": {},
   "outputs": [],
   "source": [
    "# Let's load it\n",
    "data = pd.read_csv('http://opendata.cern.ch/record/545/files/Dimuon_DoubleMu.csv')"
   ]
  },
  {
   "cell_type": "code",
   "execution_count": null,
   "metadata": {},
   "outputs": [],
   "source": [
    "# And see what the data contains and how many lines there really are\n",
    "print('Lines: ', len(data))\n",
    "data.head()\n"
   ]
  },
  {
   "cell_type": "markdown",
   "metadata": {},
   "source": [
    "### 4.1.1 Invariant mass"
   ]
  },
  {
   "cell_type": "markdown",
   "metadata": {},
   "source": [
    "Invariant mass $M$ (last column in the data above) is a value that can be calculated from the energies and momenta of the decay products. This is a purely mathematical value, not a physical mass. It is used to figure out what kind of particle produced the detected particles, as invariant mass is a preserved quality.  \n",
    "In this dataset the invariant mass is already included, but if it wasn't it can be calculated with\n",
    "\n",
    "$$ M = \\sqrt{(E_1 + E_2)^2 - (p_1 + p_2)^2},$$\n",
    "\n",
    "where $E_1, E_2$ are the energies and $p_1, p_2$ the momenta of the decay products.  "
   ]
  },
  {
   "cell_type": "code",
   "execution_count": null,
   "metadata": {},
   "outputs": [],
   "source": [
    "# So let's plot a histogram of invariant masses in the given data\n",
    "\n",
    "# This is needed only for the figure size\n",
    "fig = plt.figure(figsize=(10,5))\n",
    "\n",
    "plt.hist(data.M, bins = 500)\n",
    "\n",
    "plt.xlabel('Invariant mass [GeV]')\n",
    "plt.ylabel('Amount of events')\n",
    "plt.title('Invariant Mass Histogram')\n",
    "\n",
    "plt.show()"
   ]
  },
  {
   "cell_type": "markdown",
   "metadata": {},
   "source": [
    "Let's take a closer look in to the 80-100 GeV region"
   ]
  },
  {
   "cell_type": "code",
   "execution_count": null,
   "metadata": {},
   "outputs": [],
   "source": [
    "fig = plt.figure(figsize=(10,5))\n",
    "plt.hist(data.M, bins = 300, range = (84,97)) \n",
    "\n",
    "plt.title('Please rename me')\n",
    "plt.xlabel('Invariant mass [GeV]')\n",
    "plt.ylabel('Amount')\n",
    "\n",
    "plt.show()"
   ]
  },
  {
   "cell_type": "markdown",
   "metadata": {},
   "source": [
    "What a beautiful normal distribution! Looks like the Z boson. How about fitting a bell curve on that thing:"
   ]
  },
  {
   "cell_type": "code",
   "execution_count": null,
   "metadata": {},
   "outputs": [],
   "source": [
    "# First we need this\n",
    "from scipy.stats import norm\n",
    "\n",
    "# Select the area we want the fit for\n",
    "area = data[(data.M > 84) & (data.M < 97)]\n",
    "\n",
    "# Calculate the standard deviation and variance for the fit\n",
    "(mu, sigma) = norm.fit(area.M)"
   ]
  },
  {
   "cell_type": "code",
   "execution_count": null,
   "metadata": {},
   "outputs": [],
   "source": [
    "fig = plt.figure(figsize=(10,5))\n",
    "\n",
    "n, bins, patches = plt.hist(area.M, 300, density = 1)\n",
    "\n",
    "# Calculate the y-value for the fit\n",
    "y = norm.pdf(bins, mu, sigma)\n",
    "\n",
    "# Plot the fit\n",
    "l = plt.plot(bins, y, 'r--', linewidth=2)\n",
    "\n",
    "# And then the labels\n",
    "plt.xlabel('Invariant mass [GeV]')\n",
    "plt.ylabel('Propability')\n",
    "plt.title('Histogram of invariant masses normed to 1 $\\mu = %.3f, \\ \\sigma = %.3f$' %(mu, sigma))\n",
    "\n",
    "plt.show()"
   ]
  },
  {
   "cell_type": "markdown",
   "metadata": {},
   "source": [
    "Fits pretty nicely!"
   ]
  },
  {
   "cell_type": "markdown",
   "metadata": {},
   "source": [
    "### 4.1.2 What kind of effect does the measured energy have on the results?"
   ]
  },
  {
   "cell_type": "markdown",
   "metadata": {},
   "source": [
    "Sometimes it's interesting to check out how does different parts of data affect the results. Let's see what kind of results high vs. low energy (pairs) particles give."
   ]
  },
  {
   "cell_type": "code",
   "execution_count": null,
   "metadata": {},
   "outputs": [],
   "source": [
    "# cond is the condition which divides the data in to high/low energy pieces, you can try different values for it to see how \n",
    "# the histogram changes\n",
    "cond = 120\n",
    "\n",
    "highEn = data[(data.E1 + data.E2) >= cond]\n",
    "lowEn = data[(data.E1 + data.E2) < cond]"
   ]
  },
  {
   "cell_type": "code",
   "execution_count": null,
   "metadata": {},
   "outputs": [],
   "source": [
    "fig = plt.figure(figsize=(10,5))\n",
    "\n",
    "plt.hist(highEn.M, bins = 300, range=(80,100), alpha=0.7, label='High Energy', facecolor='g')\n",
    "plt.hist(lowEn.M, bins = 300, range=(80,100), alpha=0.7, label='Low Energy', facecolor='k')\n",
    "\n",
    "plt.title('High & low energy histogram')\n",
    "plt.xlabel('Invariant mass [GeV]')\n",
    "plt.ylabel('Amount')\n",
    "plt.legend(loc='upper right')\n",
    "\n",
    "plt.show()"
   ]
  },
  {
   "cell_type": "markdown",
   "metadata": {},
   "source": [
    "Looks like the histograms are more or less equal (with cond = 120). What gives?"
   ]
  },
  {
   "cell_type": "code",
   "execution_count": null,
   "metadata": {},
   "outputs": [],
   "source": [
    "print('High energy: ', len(highEn))\n",
    "print('Low energy: ', len(lowEn))"
   ]
  },
  {
   "cell_type": "markdown",
   "metadata": {},
   "source": [
    "Is it more likely to detect the Z boson with high or low energy?"
   ]
  },
  {
   "cell_type": "markdown",
   "metadata": {},
   "source": [
    "### 4.1.3 Pseudorapidity"
   ]
  },
  {
   "cell_type": "markdown",
   "metadata": {},
   "source": [
    "<img src = \"https://upload.wikimedia.org/wikipedia/commons/thumb/e/ed/Pseudorapidity_plot.svg/695px-Pseudorapidity_plot.svg.png\" align = \"left\" style = \"height:300px\">\n",
    "\n",
    "Pseudorapidity $\\eta$ tells the angle of the particle relative to the beam axis. Large ($\\eta > 2.5$) values are so close to the beam that they are hard to measure whereas values close to zero can be measured more easily as the distance to the collision is short as possible. This can be clearly seen in a histogram which is drawn next.\n",
    "\n",
    "In the picture on the left you can think of the beam coming from left to right.\n",
    "\n",
    "Maybe it's easier to think pseudorapidity as the angle, which can be calculated from:\n",
    "\n",
    "$$\\eta = -\\ln[\\tan(\\frac{\\theta}{2})],$$\n",
    "\n",
    "where $\\theta$ is the angle between the beam axis and the detected particle."
   ]
  },
  {
   "cell_type": "code",
   "execution_count": null,
   "metadata": {},
   "outputs": [],
   "source": [
    "prapid = pd.concat([data['eta1'], data['eta2']])\n",
    "plt.hist(prapid, bins=300)\n",
    "\n",
    "plt.title('Pseudorapidity histogram')\n",
    "plt.xlabel('$\\eta$')\n",
    "plt.ylabel('Amount')\n",
    "\n",
    "plt.show()\n"
   ]
  },
  {
   "cell_type": "code",
   "execution_count": null,
   "metadata": {},
   "outputs": [],
   "source": [
    "# And as an angle\n",
    "angles = prapid.copy()\n",
    "\n",
    "angles[:] = [2*np.arctan(np.exp(x))*360/(2*np.pi) for x in angles]"
   ]
  },
  {
   "cell_type": "code",
   "execution_count": null,
   "metadata": {},
   "outputs": [],
   "source": [
    "plt.hist(angles, bins=300)\n",
    "\n",
    "plt.title('Angle distribution from pseudorapidity')\n",
    "plt.xlabel('Angle [deg]')\n",
    "plt.ylabel('Amount')\n",
    "\n",
    "plt.show()"
   ]
  },
  {
   "cell_type": "markdown",
   "metadata": {},
   "source": [
    "What causes these symmetrical shapes?"
   ]
  },
  {
   "cell_type": "markdown",
   "metadata": {},
   "source": [
    "Particles also hold this property called transverse momentum $\\vec{p_T}$, which tells the sum of $\\vec{p_x}$ and $\\vec{p_y}$.  \n",
    "Let's see what does it have to do with pseudorapidity."
   ]
  },
  {
   "cell_type": "code",
   "execution_count": null,
   "metadata": {},
   "outputs": [],
   "source": [
    "# first take all the transverse momenta in to a single variable\n",
    "transMom = pd.concat([data.pt1, data.pt2])"
   ]
  },
  {
   "cell_type": "code",
   "execution_count": null,
   "metadata": {},
   "outputs": [],
   "source": [
    "fig = plt.figure(figsize = (10,5))\n",
    "\n",
    "plt.scatter(prapid, transMom, s = 0.5)\n",
    "\n",
    "plt.title('Transverse momentum vs. pseudorapidity')\n",
    "plt.xlabel('$\\eta$')\n",
    "plt.ylabel('Transverse momentum [GeV]')\n",
    "\n",
    "# Set this limit to actually see something interesting in the diagram\n",
    "plt.ylim(0,6) \n",
    "\n",
    "plt.show()"
   ]
  },
  {
   "cell_type": "markdown",
   "metadata": {},
   "source": [
    "What may be the reason(s) for the diagram to look like this?"
   ]
  },
  {
   "cell_type": "markdown",
   "metadata": {},
   "source": [
    "### 4.2 How about data from [London's traffic accidents](http://roads.data.tfl.gov.uk/)?"
   ]
  },
  {
   "cell_type": "code",
   "execution_count": 11,
   "metadata": {},
   "outputs": [],
   "source": [
    "trafDat=pd.read_table('http://roads.data.tfl.gov.uk/AccidentStats/Prod/2016-gla-data-extract-vehicle.csv', sep = \",\")\n",
    "casDat = pd.read_table('http://roads.data.tfl.gov.uk/AccidentStats/Prod/2016-gla-data-extract-casualty.csv', sep = \",\")\n",
    "# http://roads.data.tfl.gov.uk/AccidentStats/Prod/2016-gla-data-extract-vehicle.csv"
   ]
  },
  {
   "cell_type": "code",
   "execution_count": 6,
   "metadata": {},
   "outputs": [
    {
     "data": {
      "text/html": [
       "<div>\n",
       "<style scoped>\n",
       "    .dataframe tbody tr th:only-of-type {\n",
       "        vertical-align: middle;\n",
       "    }\n",
       "\n",
       "    .dataframe tbody tr th {\n",
       "        vertical-align: top;\n",
       "    }\n",
       "\n",
       "    .dataframe thead th {\n",
       "        text-align: right;\n",
       "    }\n",
       "</style>\n",
       "<table border=\"1\" class=\"dataframe\">\n",
       "  <thead>\n",
       "    <tr style=\"text-align: right;\">\n",
       "      <th></th>\n",
       "      <th>AREFNO</th>\n",
       "      <th>Borough</th>\n",
       "      <th>Boro</th>\n",
       "      <th>Easting</th>\n",
       "      <th>Northing</th>\n",
       "      <th>Vehicle Ref.</th>\n",
       "      <th>Vehicle Type</th>\n",
       "      <th>Vehicle Type (Banded)</th>\n",
       "      <th>Vehicle Manoeuvres</th>\n",
       "      <th>Vehicle Skidding</th>\n",
       "      <th>...</th>\n",
       "      <th>Junction Location</th>\n",
       "      <th>Object in C/W</th>\n",
       "      <th>Veh. Leaving C/W</th>\n",
       "      <th>Veh. off C/W</th>\n",
       "      <th>Veh. Impact</th>\n",
       "      <th>VJNYPURP DECODED</th>\n",
       "      <th>Driver Sex</th>\n",
       "      <th>Driver Age</th>\n",
       "      <th>Driver Age (Banded)</th>\n",
       "      <th></th>\n",
       "    </tr>\n",
       "  </thead>\n",
       "  <tbody>\n",
       "    <tr>\n",
       "      <th>0</th>\n",
       "      <td>1160001090</td>\n",
       "      <td>CITY OF LONDON</td>\n",
       "      <td>0</td>\n",
       "      <td>531350</td>\n",
       "      <td>181580</td>\n",
       "      <td>1</td>\n",
       "      <td>08 Taxi</td>\n",
       "      <td>4 Taxi</td>\n",
       "      <td>04 Slowing Or Stopping</td>\n",
       "      <td>0 No Skidding/Overturn</td>\n",
       "      <td>...</td>\n",
       "      <td>0 Not At Jct</td>\n",
       "      <td>00 None</td>\n",
       "      <td>0 Did Not Leave</td>\n",
       "      <td>00 None</td>\n",
       "      <td>4 N/S Hit First</td>\n",
       "      <td>1 Jny Part of Work</td>\n",
       "      <td>1 Male</td>\n",
       "      <td>46</td>\n",
       "      <td>35-64</td>\n",
       "      <td></td>\n",
       "    </tr>\n",
       "    <tr>\n",
       "      <th>1</th>\n",
       "      <td>1160002980</td>\n",
       "      <td>CITY OF LONDON</td>\n",
       "      <td>0</td>\n",
       "      <td>532780</td>\n",
       "      <td>180410</td>\n",
       "      <td>1</td>\n",
       "      <td>01 Pedal Cycle</td>\n",
       "      <td>1 Pedal cycle</td>\n",
       "      <td>13 Overtake Move Veh O/S</td>\n",
       "      <td>0 No Skidding/Overturn</td>\n",
       "      <td>...</td>\n",
       "      <td>0 Not At Jct</td>\n",
       "      <td>00 None</td>\n",
       "      <td>0 Did Not Leave</td>\n",
       "      <td>00 None</td>\n",
       "      <td>1 Front Hit First</td>\n",
       "      <td>5 Other/Not Known</td>\n",
       "      <td>3 Not Traced</td>\n",
       "      <td>0</td>\n",
       "      <td>Unknown</td>\n",
       "      <td></td>\n",
       "    </tr>\n",
       "    <tr>\n",
       "      <th>2</th>\n",
       "      <td>1160002980</td>\n",
       "      <td>CITY OF LONDON</td>\n",
       "      <td>0</td>\n",
       "      <td>532780</td>\n",
       "      <td>180410</td>\n",
       "      <td>2</td>\n",
       "      <td>01 Pedal Cycle</td>\n",
       "      <td>1 Pedal cycle</td>\n",
       "      <td>14 Overtake Stat Veh O/S</td>\n",
       "      <td>0 No Skidding/Overturn</td>\n",
       "      <td>...</td>\n",
       "      <td>0 Not At Jct</td>\n",
       "      <td>00 None</td>\n",
       "      <td>0 Did Not Leave</td>\n",
       "      <td>00 None</td>\n",
       "      <td>2 Back Hit First</td>\n",
       "      <td>5 Other/Not Known</td>\n",
       "      <td>1 Male</td>\n",
       "      <td>46</td>\n",
       "      <td>35-64</td>\n",
       "      <td></td>\n",
       "    </tr>\n",
       "    <tr>\n",
       "      <th>3</th>\n",
       "      <td>1160006347</td>\n",
       "      <td>CITY OF LONDON</td>\n",
       "      <td>0</td>\n",
       "      <td>531400</td>\n",
       "      <td>181570</td>\n",
       "      <td>1</td>\n",
       "      <td>09 Car</td>\n",
       "      <td>3 Car</td>\n",
       "      <td>09 Turning Right</td>\n",
       "      <td>0 No Skidding/Overturn</td>\n",
       "      <td>...</td>\n",
       "      <td>8 Jct Mid</td>\n",
       "      <td>00 None</td>\n",
       "      <td>0 Did Not Leave</td>\n",
       "      <td>00 None</td>\n",
       "      <td>1 Front Hit First</td>\n",
       "      <td>5 Other/Not Known</td>\n",
       "      <td>1 Male</td>\n",
       "      <td>22</td>\n",
       "      <td>17-24</td>\n",
       "      <td></td>\n",
       "    </tr>\n",
       "    <tr>\n",
       "      <th>4</th>\n",
       "      <td>1160006347</td>\n",
       "      <td>CITY OF LONDON</td>\n",
       "      <td>0</td>\n",
       "      <td>531400</td>\n",
       "      <td>181570</td>\n",
       "      <td>2</td>\n",
       "      <td>09 Car</td>\n",
       "      <td>3 Car</td>\n",
       "      <td>05 Moving Off</td>\n",
       "      <td>0 No Skidding/Overturn</td>\n",
       "      <td>...</td>\n",
       "      <td>8 Jct Mid</td>\n",
       "      <td>00 None</td>\n",
       "      <td>0 Did Not Leave</td>\n",
       "      <td>00 None</td>\n",
       "      <td>3 O/S Hit First</td>\n",
       "      <td>5 Other/Not Known</td>\n",
       "      <td>1 Male</td>\n",
       "      <td>69</td>\n",
       "      <td>65+</td>\n",
       "      <td></td>\n",
       "    </tr>\n",
       "  </tbody>\n",
       "</table>\n",
       "<p>5 rows × 21 columns</p>\n",
       "</div>"
      ],
      "text/plain": [
       "       AREFNO         Borough  Boro  Easting  Northing  Vehicle Ref.  \\\n",
       "0  1160001090  CITY OF LONDON     0   531350    181580             1   \n",
       "1  1160002980  CITY OF LONDON     0   532780    180410             1   \n",
       "2  1160002980  CITY OF LONDON     0   532780    180410             2   \n",
       "3  1160006347  CITY OF LONDON     0   531400    181570             1   \n",
       "4  1160006347  CITY OF LONDON     0   531400    181570             2   \n",
       "\n",
       "     Vehicle Type Vehicle Type (Banded)        Vehicle Manoeuvres  \\\n",
       "0         08 Taxi                4 Taxi    04 Slowing Or Stopping   \n",
       "1  01 Pedal Cycle         1 Pedal cycle  13 Overtake Move Veh O/S   \n",
       "2  01 Pedal Cycle         1 Pedal cycle  14 Overtake Stat Veh O/S   \n",
       "3          09 Car                 3 Car          09 Turning Right   \n",
       "4          09 Car                 3 Car             05 Moving Off   \n",
       "\n",
       "         Vehicle Skidding ... Junction Location Object in C/W  \\\n",
       "0  0 No Skidding/Overturn ...      0 Not At Jct       00 None   \n",
       "1  0 No Skidding/Overturn ...      0 Not At Jct       00 None   \n",
       "2  0 No Skidding/Overturn ...      0 Not At Jct       00 None   \n",
       "3  0 No Skidding/Overturn ...         8 Jct Mid       00 None   \n",
       "4  0 No Skidding/Overturn ...         8 Jct Mid       00 None   \n",
       "\n",
       "  Veh. Leaving C/W Veh. off C/W        Veh. Impact    VJNYPURP DECODED  \\\n",
       "0  0 Did Not Leave      00 None    4 N/S Hit First  1 Jny Part of Work   \n",
       "1  0 Did Not Leave      00 None  1 Front Hit First   5 Other/Not Known   \n",
       "2  0 Did Not Leave      00 None   2 Back Hit First   5 Other/Not Known   \n",
       "3  0 Did Not Leave      00 None  1 Front Hit First   5 Other/Not Known   \n",
       "4  0 Did Not Leave      00 None    3 O/S Hit First   5 Other/Not Known   \n",
       "\n",
       "     Driver Sex Driver Age  Driver Age (Banded)     \n",
       "0        1 Male         46                35-64     \n",
       "1  3 Not Traced          0              Unknown     \n",
       "2        1 Male         46                35-64     \n",
       "3        1 Male         22                17-24     \n",
       "4        1 Male         69                  65+     \n",
       "\n",
       "[5 rows x 21 columns]"
      ]
     },
     "execution_count": 6,
     "metadata": {},
     "output_type": "execute_result"
    }
   ],
   "source": [
    "# Let's check out what does this table hold in\n",
    "trafDat.head()"
   ]
  },
  {
   "cell_type": "code",
   "execution_count": 7,
   "metadata": {},
   "outputs": [
    {
     "data": {
      "text/plain": [
       "44773"
      ]
     },
     "execution_count": 7,
     "metadata": {},
     "output_type": "execute_result"
    }
   ],
   "source": [
    "len(trafDat)"
   ]
  },
  {
   "cell_type": "markdown",
   "metadata": {},
   "source": [
    "All right, that many accidents. What does the vehicle distribution between the ages x and y look like?"
   ]
  },
  {
   "cell_type": "code",
   "execution_count": 8,
   "metadata": {},
   "outputs": [],
   "source": [
    "# someDat includes all data now where the driver age is between x and y\n",
    "x = 16\n",
    "y = 25\n",
    "someDat = trafDat.loc[(trafDat['Driver Age'] <= y) & (trafDat['Driver Age'] >= x)]"
   ]
  },
  {
   "cell_type": "code",
   "execution_count": 9,
   "metadata": {
    "scrolled": false
   },
   "outputs": [
    {
     "data": {
      "image/png": "[encoded data removed]",
      "text/plain": [
       "<matplotlib.figure.Figure at 0x17c34e457f0>"
      ]
     },
     "metadata": {},
     "output_type": "display_data"
    }
   ],
   "source": [
    "# Let's plot a histogram\n",
    "fig = plt.figure(figsize=(10,5))\n",
    "plt.hist(someDat['Vehicle Type'], bins = 50)\n",
    "plt.xticks(rotation=40, ha='right')\n",
    "plt.show()"
   ]
  },
  {
   "cell_type": "markdown",
   "metadata": {},
   "source": [
    "Nothing too surprising, except...horses? "
   ]
  },
  {
   "cell_type": "code",
   "execution_count": 10,
   "metadata": {},
   "outputs": [
    {
     "data": {
      "text/html": [
       "<div>\n",
       "<style scoped>\n",
       "    .dataframe tbody tr th:only-of-type {\n",
       "        vertical-align: middle;\n",
       "    }\n",
       "\n",
       "    .dataframe tbody tr th {\n",
       "        vertical-align: top;\n",
       "    }\n",
       "\n",
       "    .dataframe thead th {\n",
       "        text-align: right;\n",
       "    }\n",
       "</style>\n",
       "<table border=\"1\" class=\"dataframe\">\n",
       "  <thead>\n",
       "    <tr style=\"text-align: right;\">\n",
       "      <th></th>\n",
       "      <th>AREFNO</th>\n",
       "      <th>Borough</th>\n",
       "      <th>Boro</th>\n",
       "      <th>Easting</th>\n",
       "      <th>Northing</th>\n",
       "      <th>Vehicle Ref.</th>\n",
       "      <th>Vehicle Type</th>\n",
       "      <th>Vehicle Type (Banded)</th>\n",
       "      <th>Vehicle Manoeuvres</th>\n",
       "      <th>Vehicle Skidding</th>\n",
       "      <th>...</th>\n",
       "      <th>Junction Location</th>\n",
       "      <th>Object in C/W</th>\n",
       "      <th>Veh. Leaving C/W</th>\n",
       "      <th>Veh. off C/W</th>\n",
       "      <th>Veh. Impact</th>\n",
       "      <th>VJNYPURP DECODED</th>\n",
       "      <th>Driver Sex</th>\n",
       "      <th>Driver Age</th>\n",
       "      <th>Driver Age (Banded)</th>\n",
       "      <th></th>\n",
       "    </tr>\n",
       "  </thead>\n",
       "  <tbody>\n",
       "    <tr>\n",
       "      <th>33056</th>\n",
       "      <td>0116TW60237</td>\n",
       "      <td>RICHMOND-UPON-THAMES</td>\n",
       "      <td>24</td>\n",
       "      <td>518450</td>\n",
       "      <td>173770</td>\n",
       "      <td>1</td>\n",
       "      <td>16 Ridden Horse</td>\n",
       "      <td>8 Other</td>\n",
       "      <td>18 Going Ahead Other</td>\n",
       "      <td>0 No Skidding/Overturn</td>\n",
       "      <td>...</td>\n",
       "      <td>2 Jct Cleared</td>\n",
       "      <td>00 None</td>\n",
       "      <td>0 Did Not Leave</td>\n",
       "      <td>00 None</td>\n",
       "      <td>1 Front Hit First</td>\n",
       "      <td>1 Jny Part of Work</td>\n",
       "      <td>1 Male</td>\n",
       "      <td>25</td>\n",
       "      <td>25-34</td>\n",
       "      <td></td>\n",
       "    </tr>\n",
       "    <tr>\n",
       "      <th>33057</th>\n",
       "      <td>0116TW60237</td>\n",
       "      <td>RICHMOND-UPON-THAMES</td>\n",
       "      <td>24</td>\n",
       "      <td>518450</td>\n",
       "      <td>173770</td>\n",
       "      <td>2</td>\n",
       "      <td>16 Ridden Horse</td>\n",
       "      <td>8 Other</td>\n",
       "      <td>18 Going Ahead Other</td>\n",
       "      <td>0 No Skidding/Overturn</td>\n",
       "      <td>...</td>\n",
       "      <td>2 Jct Cleared</td>\n",
       "      <td>00 None</td>\n",
       "      <td>0 Did Not Leave</td>\n",
       "      <td>00 None</td>\n",
       "      <td>2 Back Hit First</td>\n",
       "      <td>1 Jny Part of Work</td>\n",
       "      <td>1 Male</td>\n",
       "      <td>28</td>\n",
       "      <td>25-34</td>\n",
       "      <td></td>\n",
       "    </tr>\n",
       "  </tbody>\n",
       "</table>\n",
       "<p>2 rows × 21 columns</p>\n",
       "</div>"
      ],
      "text/plain": [
       "            AREFNO               Borough  Boro  Easting  Northing  \\\n",
       "33056  0116TW60237  RICHMOND-UPON-THAMES    24   518450    173770   \n",
       "33057  0116TW60237  RICHMOND-UPON-THAMES    24   518450    173770   \n",
       "\n",
       "       Vehicle Ref.     Vehicle Type Vehicle Type (Banded)  \\\n",
       "33056             1  16 Ridden Horse               8 Other   \n",
       "33057             2  16 Ridden Horse               8 Other   \n",
       "\n",
       "         Vehicle Manoeuvres        Vehicle Skidding ... Junction Location  \\\n",
       "33056  18 Going Ahead Other  0 No Skidding/Overturn ...     2 Jct Cleared   \n",
       "33057  18 Going Ahead Other  0 No Skidding/Overturn ...     2 Jct Cleared   \n",
       "\n",
       "      Object in C/W Veh. Leaving C/W Veh. off C/W        Veh. Impact  \\\n",
       "33056       00 None  0 Did Not Leave      00 None  1 Front Hit First   \n",
       "33057       00 None  0 Did Not Leave      00 None   2 Back Hit First   \n",
       "\n",
       "         VJNYPURP DECODED Driver Sex Driver Age  Driver Age (Banded)     \n",
       "33056  1 Jny Part of Work     1 Male         25                25-34     \n",
       "33057  1 Jny Part of Work     1 Male         28                25-34     \n",
       "\n",
       "[2 rows x 21 columns]"
      ]
     },
     "execution_count": 10,
     "metadata": {},
     "output_type": "execute_result"
    }
   ],
   "source": [
    "# Ridden horses? Ofcourse.\n",
    "horses = trafDat.loc[trafDat['Vehicle Type'] == '16 Ridden Horse']\n",
    "horses.head()"
   ]
  },
  {
   "cell_type": "code",
   "execution_count": 13,
   "metadata": {},
   "outputs": [],
   "source": [
    "horseCas = casDat.loc[casDat['AREFNO'] == '0116TW60237']"
   ]
  },
  {
   "cell_type": "code",
   "execution_count": 15,
   "metadata": {},
   "outputs": [
    {
     "data": {
      "text/html": [
       "<div>\n",
       "<style scoped>\n",
       "    .dataframe tbody tr th:only-of-type {\n",
       "        vertical-align: middle;\n",
       "    }\n",
       "\n",
       "    .dataframe tbody tr th {\n",
       "        vertical-align: top;\n",
       "    }\n",
       "\n",
       "    .dataframe thead th {\n",
       "        text-align: right;\n",
       "    }\n",
       "</style>\n",
       "<table border=\"1\" class=\"dataframe\">\n",
       "  <thead>\n",
       "    <tr style=\"text-align: right;\">\n",
       "      <th></th>\n",
       "      <th>AREFNO</th>\n",
       "      <th>Borough</th>\n",
       "      <th>Boro</th>\n",
       "      <th>Easting</th>\n",
       "      <th>Northing</th>\n",
       "      <th>CREFNO</th>\n",
       "      <th>Casualty Class</th>\n",
       "      <th>Casualty Sex</th>\n",
       "      <th>Casualty Age (Banded)</th>\n",
       "      <th>Casualty Age</th>\n",
       "      <th>No. of Casualties</th>\n",
       "      <th>Casualty Severity</th>\n",
       "      <th>Ped. Location</th>\n",
       "      <th>Ped. Movement</th>\n",
       "      <th>Mode of Travel</th>\n",
       "      <th></th>\n",
       "    </tr>\n",
       "  </thead>\n",
       "  <tbody>\n",
       "    <tr>\n",
       "      <th>22096</th>\n",
       "      <td>0116TW60237</td>\n",
       "      <td>RICHMOND-UPON-THAMES</td>\n",
       "      <td>24</td>\n",
       "      <td>518450</td>\n",
       "      <td>173770</td>\n",
       "      <td>1</td>\n",
       "      <td>1 Driver/Rider</td>\n",
       "      <td>1 Male</td>\n",
       "      <td>25-59</td>\n",
       "      <td>28</td>\n",
       "      <td>1</td>\n",
       "      <td>3 Slight</td>\n",
       "      <td>-2 Unknown</td>\n",
       "      <td>-2 N/A</td>\n",
       "      <td>8 Other Vehicle</td>\n",
       "      <td></td>\n",
       "    </tr>\n",
       "  </tbody>\n",
       "</table>\n",
       "</div>"
      ],
      "text/plain": [
       "            AREFNO               Borough  Boro  Easting  Northing  CREFNO  \\\n",
       "22096  0116TW60237  RICHMOND-UPON-THAMES    24   518450    173770       1   \n",
       "\n",
       "       Casualty Class Casualty Sex Casualty Age (Banded)  Casualty Age  \\\n",
       "22096  1 Driver/Rider       1 Male                 25-59            28   \n",
       "\n",
       "       No. of Casualties Casualty Severity Ped. Location Ped. Movement  \\\n",
       "22096                  1          3 Slight    -2 Unknown        -2 N/A   \n",
       "\n",
       "        Mode of Travel     \n",
       "22096  8 Other Vehicle     "
      ]
     },
     "execution_count": 15,
     "metadata": {},
     "output_type": "execute_result"
    }
   ],
   "source": [
    "horseCas.head()"
   ]
  }
 ],
 "metadata": {
  "kernelspec": {
   "display_name": "Python 3",
   "language": "python",
   "name": "python3"
  },
  "language_info": {
   "codemirror_mode": {
    "name": "ipython",
    "version": 3
   },
   "file_extension": ".py",
   "mimetype": "text/x-python",
   "name": "python",
   "nbconvert_exporter": "python",
   "pygments_lexer": "ipython3",
   "version": "3.6.4"
  }
 },
 "nbformat": 4,
 "nbformat_minor": 2
}
